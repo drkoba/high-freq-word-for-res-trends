{
  "nbformat": 4,
  "nbformat_minor": 0,
  "metadata": {
    "colab": {
      "provenance": [],
      "authorship_tag": "ABX9TyMkoBPJQUj/+aLH3d4tzzhQ",
      "include_colab_link": true
    },
    "kernelspec": {
      "name": "python3",
      "display_name": "Python 3"
    },
    "language_info": {
      "name": "python"
    }
  },
  "cells": [
    {
      "cell_type": "markdown",
      "metadata": {
        "id": "view-in-github",
        "colab_type": "text"
      },
      "source": [
        "<a href=\"https://colab.research.google.com/github/drkoba/high-freq-word-for-res-trends/blob/main/high-frequency%20analysis.ipynb\" target=\"_parent\"><img src=\"https://colab.research.google.com/assets/colab-badge.svg\" alt=\"Open In Colab\"/></a>"
      ]
    },
    {
      "cell_type": "code",
      "execution_count": null,
      "metadata": {
        "id": "BKmpG_FqZ9bN"
      },
      "outputs": [],
      "source": [
        "# Import necessary libraries\n",
        "import pandas as pd\n",
        "import io\n",
        "import re\n",
        "import os\n",
        "from google.colab import files\n"
      ]
    },
    {
      "cell_type": "code",
      "source": [
        "# Step 1: Upload files\n",
        "print(\"Please upload the Excel or CSV file you want to analyze.\")\n",
        "uploaded = files.upload()"
      ],
      "metadata": {
        "colab": {
          "base_uri": "https://localhost:8080/",
          "height": 114
        },
        "id": "2eqwjzuzc-Na",
        "outputId": "24ca587f-fc2b-4e8f-d0e1-bcbb7cfc3d96"
      },
      "execution_count": null,
      "outputs": [
        {
          "output_type": "stream",
          "name": "stdout",
          "text": [
            "Please upload the Excel or CSV file you want to analyze.\n"
          ]
        },
        {
          "output_type": "display_data",
          "data": {
            "text/plain": [
              "<IPython.core.display.HTML object>"
            ],
            "text/html": [
              "\n",
              "     <input type=\"file\" id=\"files-9a5d3700-a164-43ad-8361-3b0d51f6ebd3\" name=\"files[]\" multiple disabled\n",
              "        style=\"border:none\" />\n",
              "     <output id=\"result-9a5d3700-a164-43ad-8361-3b0d51f6ebd3\">\n",
              "      Upload widget is only available when the cell has been executed in the\n",
              "      current browser session. Please rerun this cell to enable.\n",
              "      </output>\n",
              "      <script>// Copyright 2017 Google LLC\n",
              "//\n",
              "// Licensed under the Apache License, Version 2.0 (the \"License\");\n",
              "// you may not use this file except in compliance with the License.\n",
              "// You may obtain a copy of the License at\n",
              "//\n",
              "//      http://www.apache.org/licenses/LICENSE-2.0\n",
              "//\n",
              "// Unless required by applicable law or agreed to in writing, software\n",
              "// distributed under the License is distributed on an \"AS IS\" BASIS,\n",
              "// WITHOUT WARRANTIES OR CONDITIONS OF ANY KIND, either express or implied.\n",
              "// See the License for the specific language governing permissions and\n",
              "// limitations under the License.\n",
              "\n",
              "/**\n",
              " * @fileoverview Helpers for google.colab Python module.\n",
              " */\n",
              "(function(scope) {\n",
              "function span(text, styleAttributes = {}) {\n",
              "  const element = document.createElement('span');\n",
              "  element.textContent = text;\n",
              "  for (const key of Object.keys(styleAttributes)) {\n",
              "    element.style[key] = styleAttributes[key];\n",
              "  }\n",
              "  return element;\n",
              "}\n",
              "\n",
              "// Max number of bytes which will be uploaded at a time.\n",
              "const MAX_PAYLOAD_SIZE = 100 * 1024;\n",
              "\n",
              "function _uploadFiles(inputId, outputId) {\n",
              "  const steps = uploadFilesStep(inputId, outputId);\n",
              "  const outputElement = document.getElementById(outputId);\n",
              "  // Cache steps on the outputElement to make it available for the next call\n",
              "  // to uploadFilesContinue from Python.\n",
              "  outputElement.steps = steps;\n",
              "\n",
              "  return _uploadFilesContinue(outputId);\n",
              "}\n",
              "\n",
              "// This is roughly an async generator (not supported in the browser yet),\n",
              "// where there are multiple asynchronous steps and the Python side is going\n",
              "// to poll for completion of each step.\n",
              "// This uses a Promise to block the python side on completion of each step,\n",
              "// then passes the result of the previous step as the input to the next step.\n",
              "function _uploadFilesContinue(outputId) {\n",
              "  const outputElement = document.getElementById(outputId);\n",
              "  const steps = outputElement.steps;\n",
              "\n",
              "  const next = steps.next(outputElement.lastPromiseValue);\n",
              "  return Promise.resolve(next.value.promise).then((value) => {\n",
              "    // Cache the last promise value to make it available to the next\n",
              "    // step of the generator.\n",
              "    outputElement.lastPromiseValue = value;\n",
              "    return next.value.response;\n",
              "  });\n",
              "}\n",
              "\n",
              "/**\n",
              " * Generator function which is called between each async step of the upload\n",
              " * process.\n",
              " * @param {string} inputId Element ID of the input file picker element.\n",
              " * @param {string} outputId Element ID of the output display.\n",
              " * @return {!Iterable<!Object>} Iterable of next steps.\n",
              " */\n",
              "function* uploadFilesStep(inputId, outputId) {\n",
              "  const inputElement = document.getElementById(inputId);\n",
              "  inputElement.disabled = false;\n",
              "\n",
              "  const outputElement = document.getElementById(outputId);\n",
              "  outputElement.innerHTML = '';\n",
              "\n",
              "  const pickedPromise = new Promise((resolve) => {\n",
              "    inputElement.addEventListener('change', (e) => {\n",
              "      resolve(e.target.files);\n",
              "    });\n",
              "  });\n",
              "\n",
              "  const cancel = document.createElement('button');\n",
              "  inputElement.parentElement.appendChild(cancel);\n",
              "  cancel.textContent = 'Cancel upload';\n",
              "  const cancelPromise = new Promise((resolve) => {\n",
              "    cancel.onclick = () => {\n",
              "      resolve(null);\n",
              "    };\n",
              "  });\n",
              "\n",
              "  // Wait for the user to pick the files.\n",
              "  const files = yield {\n",
              "    promise: Promise.race([pickedPromise, cancelPromise]),\n",
              "    response: {\n",
              "      action: 'starting',\n",
              "    }\n",
              "  };\n",
              "\n",
              "  cancel.remove();\n",
              "\n",
              "  // Disable the input element since further picks are not allowed.\n",
              "  inputElement.disabled = true;\n",
              "\n",
              "  if (!files) {\n",
              "    return {\n",
              "      response: {\n",
              "        action: 'complete',\n",
              "      }\n",
              "    };\n",
              "  }\n",
              "\n",
              "  for (const file of files) {\n",
              "    const li = document.createElement('li');\n",
              "    li.append(span(file.name, {fontWeight: 'bold'}));\n",
              "    li.append(span(\n",
              "        `(${file.type || 'n/a'}) - ${file.size} bytes, ` +\n",
              "        `last modified: ${\n",
              "            file.lastModifiedDate ? file.lastModifiedDate.toLocaleDateString() :\n",
              "                                    'n/a'} - `));\n",
              "    const percent = span('0% done');\n",
              "    li.appendChild(percent);\n",
              "\n",
              "    outputElement.appendChild(li);\n",
              "\n",
              "    const fileDataPromise = new Promise((resolve) => {\n",
              "      const reader = new FileReader();\n",
              "      reader.onload = (e) => {\n",
              "        resolve(e.target.result);\n",
              "      };\n",
              "      reader.readAsArrayBuffer(file);\n",
              "    });\n",
              "    // Wait for the data to be ready.\n",
              "    let fileData = yield {\n",
              "      promise: fileDataPromise,\n",
              "      response: {\n",
              "        action: 'continue',\n",
              "      }\n",
              "    };\n",
              "\n",
              "    // Use a chunked sending to avoid message size limits. See b/62115660.\n",
              "    let position = 0;\n",
              "    do {\n",
              "      const length = Math.min(fileData.byteLength - position, MAX_PAYLOAD_SIZE);\n",
              "      const chunk = new Uint8Array(fileData, position, length);\n",
              "      position += length;\n",
              "\n",
              "      const base64 = btoa(String.fromCharCode.apply(null, chunk));\n",
              "      yield {\n",
              "        response: {\n",
              "          action: 'append',\n",
              "          file: file.name,\n",
              "          data: base64,\n",
              "        },\n",
              "      };\n",
              "\n",
              "      let percentDone = fileData.byteLength === 0 ?\n",
              "          100 :\n",
              "          Math.round((position / fileData.byteLength) * 100);\n",
              "      percent.textContent = `${percentDone}% done`;\n",
              "\n",
              "    } while (position < fileData.byteLength);\n",
              "  }\n",
              "\n",
              "  // All done.\n",
              "  yield {\n",
              "    response: {\n",
              "      action: 'complete',\n",
              "    }\n",
              "  };\n",
              "}\n",
              "\n",
              "scope.google = scope.google || {};\n",
              "scope.google.colab = scope.google.colab || {};\n",
              "scope.google.colab._files = {\n",
              "  _uploadFiles,\n",
              "  _uploadFilesContinue,\n",
              "};\n",
              "})(self);\n",
              "</script> "
            ]
          },
          "metadata": {}
        },
        {
          "output_type": "stream",
          "name": "stdout",
          "text": [
            "Saving 頻出語_NPS_全年代_解析用 2（旧ストップワード）.xlsx to 頻出語_NPS_全年代_解析用 2（旧ストップワード）.xlsx\n"
          ]
        }
      ]
    },
    {
      "cell_type": "code",
      "source": [
        "# Step 2: Set user input\n",
        "# Specify the periods to analyze as a list (e.g., ['1990-1999', '2000-2009', '2010-2019', '2020-2024'])\n",
        "# You can add or remove periods as desired\n",
        "periods = ['1990-1999', '2000-2009', '2010-2019', '2020-2024']"
      ],
      "metadata": {
        "id": "MBIjcrtZfnAN"
      },
      "execution_count": null,
      "outputs": []
    },
    {
      "cell_type": "code",
      "source": [
        "# Specify the top N words to select (e.g., 50)\n",
        "top_n = 5000"
      ],
      "metadata": {
        "id": "mXXQvky9mANA"
      },
      "execution_count": null,
      "outputs": []
    },
    {
      "cell_type": "code",
      "source": [
        "# Step 3: Choose output format\n",
        "print(\"\\nPlease select the format to save:\")\n",
        "print(\"1: CSV\")\n",
        "print(\"2: Excel\")\n",
        "choice = input(\"Please enter 1 or 2: \")\n",
        "\n",
        "if choice == '1':\n",
        "    output_format = 'csv'\n",
        "elif choice == '2':\n",
        "    output_format = 'excel'\n",
        "else:\n",
        "    print(\"Invalid selection. CSV format will be selected by default.\")\n",
        "    output_format = 'csv'\n"
      ],
      "metadata": {
        "colab": {
          "base_uri": "https://localhost:8080/"
        },
        "id": "8DyjDp7saYBx",
        "outputId": "27425320-15c9-452d-bc96-e7a17aa97422"
      },
      "execution_count": null,
      "outputs": [
        {
          "name": "stdout",
          "output_type": "stream",
          "text": [
            "\n",
            "Please select the format to save:\n",
            "1: CSV\n",
            "2: Excel\n",
            "Please enter 1 or 2: 1\n"
          ]
        }
      ]
    },
    {
      "cell_type": "code",
      "source": [
        "# Step 4: Read file and check column names\n",
        "# Get the name of the uploaded file\n",
        "file_name = list(uploaded.keys())[0]\n",
        "print(f'\\nUploaded file name: {file_name}')"
      ],
      "metadata": {
        "colab": {
          "base_uri": "https://localhost:8080/"
        },
        "id": "RT-ONv5dmIxY",
        "outputId": "18ed675d-e230-48d7-d867-e0660d7aca91"
      },
      "execution_count": null,
      "outputs": [
        {
          "output_type": "stream",
          "name": "stdout",
          "text": [
            "\n",
            "Uploaded file name: 頻出語_NPS_全年代_解析用 2（旧ストップワード）.xlsx\n"
          ]
        }
      ]
    },
    {
      "cell_type": "code",
      "source": [
        "# Get the file extension\n",
        "file_extension = file_name.split('.')[-1].lower()"
      ],
      "metadata": {
        "id": "Vj4y1oy8mJrP"
      },
      "execution_count": null,
      "outputs": []
    },
    {
      "cell_type": "code",
      "source": [
        "# Load data (in case of Excel or CSV file)\n",
        "try:\n",
        "    if file_extension == 'csv':\n",
        "        df = pd.read_csv(io.BytesIO(uploaded[file_name]))\n",
        "    elif file_extension in ['xls', 'xlsx']:\n",
        "        df = pd.read_excel(io.BytesIO(uploaded[file_name]))\n",
        "    else:\n",
        "        raise ValueError(\"Unsupported file format. Please upload a CSV or Excel file.\")\n",
        "except Exception as e:\n",
        "    print(f\"An error occurred while reading the file: {e}\")\n",
        "    raise\n",
        "\n",
        "# Remove leading and trailing spaces from column names\n",
        "df.columns = df.columns.str.strip()\n",
        "\n",
        "# Convert full-width brackets to half-width brackets (if necessary)\n",
        "df.columns = df.columns.str.replace('（', '(', regex=False).str.replace('）', ')', regex=False)\n",
        "\n",
        "# Check data (display first few rows)\n",
        "print(\"\\nDataFrame column names:\")\n",
        "print(df.columns.tolist())\n",
        "\n",
        "print(\"\\nTop part of the data:\")\n",
        "print(df.head())\n"
      ],
      "metadata": {
        "colab": {
          "base_uri": "https://localhost:8080/"
        },
        "id": "8s2S9DZ-mK8O",
        "outputId": "a9cfb51f-d229-46b7-c7b1-794864f15da9"
      },
      "execution_count": null,
      "outputs": [
        {
          "output_type": "stream",
          "name": "stdout",
          "text": [
            "\n",
            "DataFrame column names:\n",
            "['word(1990-1999)', 'count(1990-1999)', 'word(2000-2009)', 'count(2000-2009)', 'word(2010-2019)', 'count(2010-2019)', 'word(2020-2024)', 'count(2020-2024)']\n",
            "\n",
            "Top part of the data:\n",
            "  word(1990-1999)  count(1990-1999) word(2000-2009)  count(2000-2009)  \\\n",
            "0            drug             178.0            drug             663.0   \n",
            "1        receptor             124.0            MDMA             315.0   \n",
            "2     cannabinoid              94.0        receptor             277.0   \n",
            "3         binding              90.0          method             249.0   \n",
            "4             rat              53.0     cannabinoid             215.0   \n",
            "\n",
            "  word(2010-2019)  count(2010-2019) word(2020-2024)  count(2020-2024)  \n",
            "0            drug            7036.0            drug              4990  \n",
            "1       synthetic            3742.0       synthetic              2748  \n",
            "2     cannabinoid            2571.0             NPS              2478  \n",
            "3          method            2540.0          method              2166  \n",
            "4             NPS            2385.0          sample              2125  \n"
          ]
        }
      ]
    },
    {
      "cell_type": "code",
      "source": [
        "# Step 5: Mapping column names\n",
        "# Function to search for similar column names\n",
        "def find_similar_columns(df_columns, keyword, period):\n",
        "    # Allow full-width and half-width brackets, and allow spaces\n",
        "    pattern = re.compile(rf'{keyword}\\s*[\\(\\（]\\s*{period}\\s*[\\)\\）]', re.IGNORECASE)\n",
        "    matches = [col for col in df_columns if pattern.match(col)]\n",
        "    if not matches:\n",
        "        # Output column names for debugging\n",
        "        print(f\"No column matching '{keyword} ({period})' was found.\")\n",
        "        print(\"List of available column names:\")\n",
        "        for col in df_columns:\n",
        "            print(f\" - {col}\")\n",
        "    return matches[0] if matches else None"
      ],
      "metadata": {
        "id": "CXIdBMTsmOtg"
      },
      "execution_count": null,
      "outputs": []
    },
    {
      "cell_type": "code",
      "source": [
        "# Map actual column names for each period\n",
        "words_columns = []\n",
        "counts_columns = []\n",
        "\n",
        "for period in periods:\n",
        "    word_col = find_similar_columns(df.columns, 'word', period)\n",
        "    count_col = find_similar_columns(df.columns, 'count', period)\n",
        "    if word_col and count_col:\n",
        "        words_columns.append(word_col)\n",
        "        counts_columns.append(count_col)\n",
        "        print(f\"{period}: '{word_col}', '{count_col}'\")\n",
        "    else:\n",
        "        print(f\"{period}: Corresponding columns not found, skipping data.\")\n",
        "        words_columns.append(None)\n",
        "        counts_columns.append(None)"
      ],
      "metadata": {
        "colab": {
          "base_uri": "https://localhost:8080/"
        },
        "id": "ycIEwYJvmQpf",
        "outputId": "97a60d5a-6be8-4448-d07d-17e316b679d9"
      },
      "execution_count": null,
      "outputs": [
        {
          "output_type": "stream",
          "name": "stdout",
          "text": [
            "1990-1999: 'word(1990-1999)', 'count(1990-1999)'\n",
            "2000-2009: 'word(2000-2009)', 'count(2000-2009)'\n",
            "2010-2019: 'word(2010-2019)', 'count(2010-2019)'\n",
            "2020-2024: 'word(2020-2024)', 'count(2020-2024)'\n"
          ]
        }
      ]
    },
    {
      "cell_type": "code",
      "source": [
        "# Step 6: Data shaping and analysis\n",
        "# Split data by each period and merge\n",
        "data_frames = []\n",
        "\n",
        "for period, word_col, count_col in zip(periods, words_columns, counts_columns):\n",
        "    if word_col and count_col:\n",
        "        try:\n",
        "            temp_df = df[[word_col, count_col]].copy()\n",
        "            temp_df.rename(columns={word_col: 'word', count_col: 'count'}, inplace=True)\n",
        "            temp_df['period'] = period\n",
        "            data_frames.append(temp_df)\n",
        "            print(f\"Successfully added data for {period}.\")\n",
        "        except KeyError as e:\n",
        "            print(f\"Column {e} not found. Skipping data for {period}.\")\n",
        "    else:\n",
        "        print(f\"Corresponding columns do not exist for {period}, skipping data.\")\n"
      ],
      "metadata": {
        "colab": {
          "base_uri": "https://localhost:8080/"
        },
        "id": "X0IXGlvbmSVM",
        "outputId": "ede37f54-6d25-41b5-b14b-d3b6e4fd2509"
      },
      "execution_count": null,
      "outputs": [
        {
          "output_type": "stream",
          "name": "stdout",
          "text": [
            "Successfully added data for 1990-1999.\n",
            "Successfully added data for 2000-2009.\n",
            "Successfully added data for 2010-2019.\n",
            "Successfully added data for 2020-2024.\n"
          ]
        }
      ]
    },
    {
      "cell_type": "code",
      "source": [
        "# Step 7: Save and download results\n",
        "if data_frames:\n",
        "    from google.colab import files\n",
        "\n",
        "    # Save and download new terms\n",
        "    print(\"\\nStarting to save and download new terms.\")\n",
        "    for period in new_terms_top_n:\n",
        "        if new_terms_top_n[period]:  # If the list is not empty\n",
        "            df_new = pd.DataFrame({\n",
        "                'word': new_terms_top_n[period],\n",
        "                'count': [keywords[period].get(term, 0) for term in new_terms_top_n[period]]\n",
        "            })\n",
        "            if output_format.lower() == 'csv':\n",
        "                output_filename = f'new_terms_{period}.csv'\n",
        "                df_new.to_csv(output_filename, index=False, encoding='utf-8-sig')  # 'utf-8-sig' for better Excel compatibility\n",
        "            elif output_format.lower() == 'excel':\n",
        "                output_filename = f'new_terms_{period}.xlsx'\n",
        "                df_new.to_excel(output_filename, index=False)\n",
        "            else:\n",
        "                print(f\"Unsupported format: {output_format}. Skipping {period}.\")\n",
        "                continue\n",
        "            files.download(output_filename)\n",
        "            print(f\"New Terms ({period}) saved and downloaded as '{output_filename}'.\")\n",
        "        else:\n",
        "            print(f\"No new terms found for {period}.\")\n",
        "\n",
        "    # Save and download growth terms\n",
        "    print(\"\\nStarting to save and download Growth Terms.\")\n",
        "    for period in growth_terms:\n",
        "        if growth_terms[period]:  # If the list is not empty\n",
        "            df_growth = pd.DataFrame({\n",
        "                'word': growth_terms[period],\n",
        "                'growth_rate (%)': [growth_rates[period].get(term, 0) for term in growth_terms[period]],\n",
        "                'count': [growth_counts[period].get(term, 0) for term in growth_terms[period]]\n",
        "            })\n",
        "            if output_format.lower() == 'csv':\n",
        "                output_filename = f'growth_terms_{period}.csv'\n",
        "                df_growth.to_csv(output_filename, index=False, encoding='utf-8-sig')  # 'utf-8-sig' for better Excel compatibility\n",
        "            elif output_format.lower() == 'excel':\n",
        "                output_filename = f'growth_terms_{period}.xlsx'\n",
        "                df_growth.to_excel(output_filename, index=False)\n",
        "            else:\n",
        "                print(f\"Unsupported format: {output_format}. Skipping {period}.\")\n",
        "                continue\n",
        "            files.download(output_filename)\n",
        "            print(f\"Growth Terms ({period}) saved and downloaded as '{output_filename}'.\")\n",
        "        else:\n",
        "            print(f\"No growth terms found for {period}.\")\n",
        "\n",
        "    print(\"\\nExtraction and saving of New Terms and Growth Terms are complete.\")\n",
        "else:\n",
        "    print(\"The DataFrame is empty. Skipping saving results.\")"
      ],
      "metadata": {
        "colab": {
          "base_uri": "https://localhost:8080/",
          "height": 233
        },
        "id": "uaRPdz9mmUCM",
        "outputId": "d5180e1b-3ef7-4f8e-ec72-d1f5a7e0244b"
      },
      "execution_count": null,
      "outputs": [
        {
          "output_type": "stream",
          "name": "stdout",
          "text": [
            "\n",
            "Starting to save and download new terms.\n"
          ]
        },
        {
          "output_type": "display_data",
          "data": {
            "text/plain": [
              "<IPython.core.display.Javascript object>"
            ],
            "application/javascript": [
              "\n",
              "    async function download(id, filename, size) {\n",
              "      if (!google.colab.kernel.accessAllowed) {\n",
              "        return;\n",
              "      }\n",
              "      const div = document.createElement('div');\n",
              "      const label = document.createElement('label');\n",
              "      label.textContent = `Downloading \"${filename}\": `;\n",
              "      div.appendChild(label);\n",
              "      const progress = document.createElement('progress');\n",
              "      progress.max = size;\n",
              "      div.appendChild(progress);\n",
              "      document.body.appendChild(div);\n",
              "\n",
              "      const buffers = [];\n",
              "      let downloaded = 0;\n",
              "\n",
              "      const channel = await google.colab.kernel.comms.open(id);\n",
              "      // Send a message to notify the kernel that we're ready.\n",
              "      channel.send({})\n",
              "\n",
              "      for await (const message of channel.messages) {\n",
              "        // Send a message to notify the kernel that we're ready.\n",
              "        channel.send({})\n",
              "        if (message.buffers) {\n",
              "          for (const buffer of message.buffers) {\n",
              "            buffers.push(buffer);\n",
              "            downloaded += buffer.byteLength;\n",
              "            progress.value = downloaded;\n",
              "          }\n",
              "        }\n",
              "      }\n",
              "      const blob = new Blob(buffers, {type: 'application/binary'});\n",
              "      const a = document.createElement('a');\n",
              "      a.href = window.URL.createObjectURL(blob);\n",
              "      a.download = filename;\n",
              "      div.appendChild(a);\n",
              "      a.click();\n",
              "      div.remove();\n",
              "    }\n",
              "  "
            ]
          },
          "metadata": {}
        },
        {
          "output_type": "display_data",
          "data": {
            "text/plain": [
              "<IPython.core.display.Javascript object>"
            ],
            "application/javascript": [
              "download(\"download_21e13fc4-2340-405b-a1d4-68a361034981\", \"new_terms_2000-2009.csv\", 64066)"
            ]
          },
          "metadata": {}
        },
        {
          "output_type": "stream",
          "name": "stdout",
          "text": [
            "New Terms (2000-2009) saved and downloaded as 'new_terms_2000-2009.csv'.\n"
          ]
        },
        {
          "output_type": "display_data",
          "data": {
            "text/plain": [
              "<IPython.core.display.Javascript object>"
            ],
            "application/javascript": [
              "\n",
              "    async function download(id, filename, size) {\n",
              "      if (!google.colab.kernel.accessAllowed) {\n",
              "        return;\n",
              "      }\n",
              "      const div = document.createElement('div');\n",
              "      const label = document.createElement('label');\n",
              "      label.textContent = `Downloading \"${filename}\": `;\n",
              "      div.appendChild(label);\n",
              "      const progress = document.createElement('progress');\n",
              "      progress.max = size;\n",
              "      div.appendChild(progress);\n",
              "      document.body.appendChild(div);\n",
              "\n",
              "      const buffers = [];\n",
              "      let downloaded = 0;\n",
              "\n",
              "      const channel = await google.colab.kernel.comms.open(id);\n",
              "      // Send a message to notify the kernel that we're ready.\n",
              "      channel.send({})\n",
              "\n",
              "      for await (const message of channel.messages) {\n",
              "        // Send a message to notify the kernel that we're ready.\n",
              "        channel.send({})\n",
              "        if (message.buffers) {\n",
              "          for (const buffer of message.buffers) {\n",
              "            buffers.push(buffer);\n",
              "            downloaded += buffer.byteLength;\n",
              "            progress.value = downloaded;\n",
              "          }\n",
              "        }\n",
              "      }\n",
              "      const blob = new Blob(buffers, {type: 'application/binary'});\n",
              "      const a = document.createElement('a');\n",
              "      a.href = window.URL.createObjectURL(blob);\n",
              "      a.download = filename;\n",
              "      div.appendChild(a);\n",
              "      a.click();\n",
              "      div.remove();\n",
              "    }\n",
              "  "
            ]
          },
          "metadata": {}
        },
        {
          "output_type": "display_data",
          "data": {
            "text/plain": [
              "<IPython.core.display.Javascript object>"
            ],
            "application/javascript": [
              "download(\"download_00391ff2-0a04-4fdd-9d5b-c6680afe8e38\", \"new_terms_2010-2019.csv\", 59843)"
            ]
          },
          "metadata": {}
        },
        {
          "output_type": "stream",
          "name": "stdout",
          "text": [
            "New Terms (2010-2019) saved and downloaded as 'new_terms_2010-2019.csv'.\n"
          ]
        },
        {
          "output_type": "display_data",
          "data": {
            "text/plain": [
              "<IPython.core.display.Javascript object>"
            ],
            "application/javascript": [
              "\n",
              "    async function download(id, filename, size) {\n",
              "      if (!google.colab.kernel.accessAllowed) {\n",
              "        return;\n",
              "      }\n",
              "      const div = document.createElement('div');\n",
              "      const label = document.createElement('label');\n",
              "      label.textContent = `Downloading \"${filename}\": `;\n",
              "      div.appendChild(label);\n",
              "      const progress = document.createElement('progress');\n",
              "      progress.max = size;\n",
              "      div.appendChild(progress);\n",
              "      document.body.appendChild(div);\n",
              "\n",
              "      const buffers = [];\n",
              "      let downloaded = 0;\n",
              "\n",
              "      const channel = await google.colab.kernel.comms.open(id);\n",
              "      // Send a message to notify the kernel that we're ready.\n",
              "      channel.send({})\n",
              "\n",
              "      for await (const message of channel.messages) {\n",
              "        // Send a message to notify the kernel that we're ready.\n",
              "        channel.send({})\n",
              "        if (message.buffers) {\n",
              "          for (const buffer of message.buffers) {\n",
              "            buffers.push(buffer);\n",
              "            downloaded += buffer.byteLength;\n",
              "            progress.value = downloaded;\n",
              "          }\n",
              "        }\n",
              "      }\n",
              "      const blob = new Blob(buffers, {type: 'application/binary'});\n",
              "      const a = document.createElement('a');\n",
              "      a.href = window.URL.createObjectURL(blob);\n",
              "      a.download = filename;\n",
              "      div.appendChild(a);\n",
              "      a.click();\n",
              "      div.remove();\n",
              "    }\n",
              "  "
            ]
          },
          "metadata": {}
        },
        {
          "output_type": "display_data",
          "data": {
            "text/plain": [
              "<IPython.core.display.Javascript object>"
            ],
            "application/javascript": [
              "download(\"download_da39b668-b84f-4177-bd05-7366c0dc194d\", \"new_terms_2020-2024.csv\", 59761)"
            ]
          },
          "metadata": {}
        },
        {
          "output_type": "stream",
          "name": "stdout",
          "text": [
            "New Terms (2020-2024) saved and downloaded as 'new_terms_2020-2024.csv'.\n",
            "\n",
            "Starting to save and download Growth Terms.\n"
          ]
        },
        {
          "output_type": "display_data",
          "data": {
            "text/plain": [
              "<IPython.core.display.Javascript object>"
            ],
            "application/javascript": [
              "\n",
              "    async function download(id, filename, size) {\n",
              "      if (!google.colab.kernel.accessAllowed) {\n",
              "        return;\n",
              "      }\n",
              "      const div = document.createElement('div');\n",
              "      const label = document.createElement('label');\n",
              "      label.textContent = `Downloading \"${filename}\": `;\n",
              "      div.appendChild(label);\n",
              "      const progress = document.createElement('progress');\n",
              "      progress.max = size;\n",
              "      div.appendChild(progress);\n",
              "      document.body.appendChild(div);\n",
              "\n",
              "      const buffers = [];\n",
              "      let downloaded = 0;\n",
              "\n",
              "      const channel = await google.colab.kernel.comms.open(id);\n",
              "      // Send a message to notify the kernel that we're ready.\n",
              "      channel.send({})\n",
              "\n",
              "      for await (const message of channel.messages) {\n",
              "        // Send a message to notify the kernel that we're ready.\n",
              "        channel.send({})\n",
              "        if (message.buffers) {\n",
              "          for (const buffer of message.buffers) {\n",
              "            buffers.push(buffer);\n",
              "            downloaded += buffer.byteLength;\n",
              "            progress.value = downloaded;\n",
              "          }\n",
              "        }\n",
              "      }\n",
              "      const blob = new Blob(buffers, {type: 'application/binary'});\n",
              "      const a = document.createElement('a');\n",
              "      a.href = window.URL.createObjectURL(blob);\n",
              "      a.download = filename;\n",
              "      div.appendChild(a);\n",
              "      a.click();\n",
              "      div.remove();\n",
              "    }\n",
              "  "
            ]
          },
          "metadata": {}
        },
        {
          "output_type": "display_data",
          "data": {
            "text/plain": [
              "<IPython.core.display.Javascript object>"
            ],
            "application/javascript": [
              "download(\"download_48c4e4cd-3bd0-4823-aa67-24b647bbcf75\", \"growth_terms_2000-2009.csv\", 42586)"
            ]
          },
          "metadata": {}
        },
        {
          "output_type": "stream",
          "name": "stdout",
          "text": [
            "Growth Terms (2000-2009) saved and downloaded as 'growth_terms_2000-2009.csv'.\n"
          ]
        },
        {
          "output_type": "display_data",
          "data": {
            "text/plain": [
              "<IPython.core.display.Javascript object>"
            ],
            "application/javascript": [
              "\n",
              "    async function download(id, filename, size) {\n",
              "      if (!google.colab.kernel.accessAllowed) {\n",
              "        return;\n",
              "      }\n",
              "      const div = document.createElement('div');\n",
              "      const label = document.createElement('label');\n",
              "      label.textContent = `Downloading \"${filename}\": `;\n",
              "      div.appendChild(label);\n",
              "      const progress = document.createElement('progress');\n",
              "      progress.max = size;\n",
              "      div.appendChild(progress);\n",
              "      document.body.appendChild(div);\n",
              "\n",
              "      const buffers = [];\n",
              "      let downloaded = 0;\n",
              "\n",
              "      const channel = await google.colab.kernel.comms.open(id);\n",
              "      // Send a message to notify the kernel that we're ready.\n",
              "      channel.send({})\n",
              "\n",
              "      for await (const message of channel.messages) {\n",
              "        // Send a message to notify the kernel that we're ready.\n",
              "        channel.send({})\n",
              "        if (message.buffers) {\n",
              "          for (const buffer of message.buffers) {\n",
              "            buffers.push(buffer);\n",
              "            downloaded += buffer.byteLength;\n",
              "            progress.value = downloaded;\n",
              "          }\n",
              "        }\n",
              "      }\n",
              "      const blob = new Blob(buffers, {type: 'application/binary'});\n",
              "      const a = document.createElement('a');\n",
              "      a.href = window.URL.createObjectURL(blob);\n",
              "      a.download = filename;\n",
              "      div.appendChild(a);\n",
              "      a.click();\n",
              "      div.remove();\n",
              "    }\n",
              "  "
            ]
          },
          "metadata": {}
        },
        {
          "output_type": "display_data",
          "data": {
            "text/plain": [
              "<IPython.core.display.Javascript object>"
            ],
            "application/javascript": [
              "download(\"download_86f9a690-4886-4be9-b1e9-c2349551b531\", \"growth_terms_2010-2019.csv\", 107270)"
            ]
          },
          "metadata": {}
        },
        {
          "output_type": "stream",
          "name": "stdout",
          "text": [
            "Growth Terms (2010-2019) saved and downloaded as 'growth_terms_2010-2019.csv'.\n"
          ]
        },
        {
          "output_type": "display_data",
          "data": {
            "text/plain": [
              "<IPython.core.display.Javascript object>"
            ],
            "application/javascript": [
              "\n",
              "    async function download(id, filename, size) {\n",
              "      if (!google.colab.kernel.accessAllowed) {\n",
              "        return;\n",
              "      }\n",
              "      const div = document.createElement('div');\n",
              "      const label = document.createElement('label');\n",
              "      label.textContent = `Downloading \"${filename}\": `;\n",
              "      div.appendChild(label);\n",
              "      const progress = document.createElement('progress');\n",
              "      progress.max = size;\n",
              "      div.appendChild(progress);\n",
              "      document.body.appendChild(div);\n",
              "\n",
              "      const buffers = [];\n",
              "      let downloaded = 0;\n",
              "\n",
              "      const channel = await google.colab.kernel.comms.open(id);\n",
              "      // Send a message to notify the kernel that we're ready.\n",
              "      channel.send({})\n",
              "\n",
              "      for await (const message of channel.messages) {\n",
              "        // Send a message to notify the kernel that we're ready.\n",
              "        channel.send({})\n",
              "        if (message.buffers) {\n",
              "          for (const buffer of message.buffers) {\n",
              "            buffers.push(buffer);\n",
              "            downloaded += buffer.byteLength;\n",
              "            progress.value = downloaded;\n",
              "          }\n",
              "        }\n",
              "      }\n",
              "      const blob = new Blob(buffers, {type: 'application/binary'});\n",
              "      const a = document.createElement('a');\n",
              "      a.href = window.URL.createObjectURL(blob);\n",
              "      a.download = filename;\n",
              "      div.appendChild(a);\n",
              "      a.click();\n",
              "      div.remove();\n",
              "    }\n",
              "  "
            ]
          },
          "metadata": {}
        },
        {
          "output_type": "display_data",
          "data": {
            "text/plain": [
              "<IPython.core.display.Javascript object>"
            ],
            "application/javascript": [
              "download(\"download_079b2189-cf88-4114-9f2d-6e3824845733\", \"growth_terms_2020-2024.csv\", 110730)"
            ]
          },
          "metadata": {}
        },
        {
          "output_type": "stream",
          "name": "stdout",
          "text": [
            "Growth Terms (2020-2024) saved and downloaded as 'growth_terms_2020-2024.csv'.\n",
            "\n",
            "Extraction and saving of New Terms and Growth Terms are complete.\n"
          ]
        }
      ]
    }
  ]
}